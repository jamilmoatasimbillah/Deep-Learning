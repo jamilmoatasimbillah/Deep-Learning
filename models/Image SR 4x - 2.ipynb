{
 "cells": [
  {
   "cell_type": "code",
   "execution_count": null,
   "metadata": {
    "colab": {},
    "colab_type": "code",
    "id": "P4b9_oQswYu5"
   },
   "outputs": [],
   "source": [
    "# !wget \"http://data.vision.ee.ethz.ch/cvl/DIV2K/DIV2K_train_LR_bicubic_X3.zip\"\n",
    "# !unzip DIV2K_train_LR_bicubic_X3.zip\n",
    "\n",
    "# !wget \"http://data.vision.ee.ethz.ch/cvl/DIV2K/DIV2K_valid_LR_bicubic_X3.zip\"\n",
    "# !unzip DIV2K_valid_LR_bicubic_X3.zip "
   ]
  },
  {
   "cell_type": "code",
   "execution_count": null,
   "metadata": {
    "colab": {},
    "colab_type": "code",
    "id": "EF4AoGgzxa-r"
   },
   "outputs": [],
   "source": [
    "# import cv2\n",
    "# import matplotlib.pyplot as plt\n",
    "# import glob\n",
    "# from tqdm import tqdm\n",
    "\n",
    "\n",
    "# imgs = glob.glob(\"./DIV2K_train_LR_bicubic/X3/*.png\")\n",
    "# for i in tqdm(range(len(imgs))):\n",
    "#   img = plt.imread(imgs[i])\n",
    "#   plt.imsave(f'./drive/My Drive/Image SR/dataset/train/X3/{i}.png', img)\n",
    "\n",
    "# imgs = glob.glob(\"./DIV2K_valid_LR_bicubic/X3/*.png\")\n",
    "# for i in tqdm(range(len(imgs))):\n",
    "#   img = plt.imread(imgs[i])\n",
    "#   plt.imsave(f'./drive/My Drive/Image SR/dataset/test/X3/{i}.png', img)"
   ]
  },
  {
   "cell_type": "code",
   "execution_count": null,
   "metadata": {
    "colab": {},
    "colab_type": "code",
    "id": "2YBF1MdeL8cH"
   },
   "outputs": [],
   "source": []
  },
  {
   "cell_type": "code",
   "execution_count": null,
   "metadata": {
    "colab": {},
    "colab_type": "code",
    "id": "7UjWj43PL8md"
   },
   "outputs": [],
   "source": []
  },
  {
   "cell_type": "code",
   "execution_count": 27,
   "metadata": {
    "colab": {
     "base_uri": "https://localhost:8080/",
     "height": 35
    },
    "colab_type": "code",
    "executionInfo": {
     "elapsed": 3657,
     "status": "ok",
     "timestamp": 1597078404494,
     "user": {
      "displayName": "Play with Ken",
      "photoUrl": "",
      "userId": "11920113338149543813"
     },
     "user_tz": -330
    },
    "id": "S58baVtzxssu",
    "outputId": "964136cb-c628-4984-a00e-1771bec246f6"
   },
   "outputs": [
    {
     "data": {
      "application/vnd.google.colaboratory.intrinsic+json": {
       "type": "string"
      },
      "text/plain": [
       "'/device:GPU:0'"
      ]
     },
     "execution_count": 27,
     "metadata": {
      "tags": []
     },
     "output_type": "execute_result"
    }
   ],
   "source": [
    "import cv2\n",
    "import glob\n",
    "import matplotlib.pyplot as plt\n",
    "from tqdm import tqdm\n",
    "from random import shuffle, randint\n",
    "import numpy as np\n",
    "import tensorflow as tf\n",
    "from tensorflow import keras\n",
    "\n",
    " \n",
    " \n",
    "vgg19 = keras.applications.VGG19(input_shape=(512,512,3), include_top=False, weights=\"imagenet\")\n",
    "loss_model = keras.models.Model(vgg19.input, vgg19.get_layer(\"block5_conv4\").output)\n",
    "tf.test.gpu_device_name()"
   ]
  },
  {
   "cell_type": "code",
   "execution_count": 28,
   "metadata": {
    "colab": {},
    "colab_type": "code",
    "executionInfo": {
     "elapsed": 3487,
     "status": "ok",
     "timestamp": 1597078404495,
     "user": {
      "displayName": "Play with Ken",
      "photoUrl": "",
      "userId": "11920113338149543813"
     },
     "user_tz": -330
    },
    "id": "Sv6GLJBWxs1d"
   },
   "outputs": [],
   "source": [
    "def conv2d(layer_input, filters, name, f_size=4, bn=True):\n",
    "        \"\"\"Layers used during downsampling\"\"\"\n",
    "        d = keras.layers.Conv2D(filters, kernel_size=f_size, strides=2, padding='same', name = name+'_c')(layer_input)\n",
    "        d = keras.layers.LeakyReLU(alpha=0.2, name = name+'_a')(d)\n",
    "        if bn:\n",
    "            d = keras.layers.BatchNormalization(momentum=0.8, name = name+'_bn')(d)\n",
    "        return d\n",
    " \n",
    "def deconv2d(layer_input,  skip_input, filters, name, f_size=4, dropout_rate=0):\n",
    "    \"\"\"Layers used during upsampling\"\"\"\n",
    "    u = keras.layers.UpSampling2D(size=2, name = name+'_up')(layer_input)\n",
    "    u = keras.layers.Conv2D(filters, kernel_size=f_size, strides=1, padding='same', activation='relu',name = name+'_c')(u)\n",
    "    if dropout_rate:\n",
    "        u = keras.layers.Dropout(dropout_rate, name = name+'_dout')(u)\n",
    "    #u = keras.layers.BatchNormalization(momentum=0.8, name = name+'_bn')(u)\n",
    "    u = keras.layers.Concatenate( name = name+'_con')([u, skip_input])\n",
    "    return u"
   ]
  },
  {
   "cell_type": "code",
   "execution_count": 29,
   "metadata": {
    "colab": {},
    "colab_type": "code",
    "executionInfo": {
     "elapsed": 3310,
     "status": "ok",
     "timestamp": 1597078404497,
     "user": {
      "displayName": "Play with Ken",
      "photoUrl": "",
      "userId": "11920113338149543813"
     },
     "user_tz": -330
    },
    "id": "na3ngo9kxs4H"
   },
   "outputs": [],
   "source": [
    "def get_downscale_size(img, scale=2):\n",
    "    height, width = img.shape[0], img.shape[1]\n",
    "    width, height = int(width//scale), int(height//scale)\n",
    "    if width % 2 == 1:\n",
    "        width += 1\n",
    "    if height % 2 == 1:\n",
    "        height += 1\n",
    "    return width, height\n",
    " \n",
    "def get_upscale_size(img, scale=2):\n",
    "    height, width = img.shape[0], img.shape[1]\n",
    "    return int(width*scale), int(height*scale) \n",
    " \n",
    "def get_random_crop(image, crop_height, crop_width):\n",
    "    max_x = image.shape[1] - crop_width\n",
    "    max_y = image.shape[0] - crop_height\n",
    "    x = np.random.randint(0, max_x)\n",
    "    y = np.random.randint(0, max_y)\n",
    "    crop = image[y: y + crop_height, x: x + crop_width]\n",
    "    return crop"
   ]
  },
  {
   "cell_type": "code",
   "execution_count": 30,
   "metadata": {
    "colab": {},
    "colab_type": "code",
    "executionInfo": {
     "elapsed": 3116,
     "status": "ok",
     "timestamp": 1597078404498,
     "user": {
      "displayName": "Play with Ken",
      "photoUrl": "",
      "userId": "11920113338149543813"
     },
     "user_tz": -330
    },
    "id": "NOV-T-ikxs6u"
   },
   "outputs": [],
   "source": [
    "def create_generator(input_shape = ( None, None, 3), summary=True, name=\"generator\"):\n",
    "    \n",
    "    inputs = keras.layers.Input(shape=input_shape, name=\"inputs\")\n",
    "    \n",
    "    d_sample1 = conv2d(inputs, 32, \"d_sample1\", (3,3), bn=False)\n",
    "    d_sample2 = conv2d(d_sample1, 64, \"d_sample2\", (3,3), bn=False)\n",
    "    d_sample3 = conv2d(d_sample2, 128, \"d_sample3\", (3,3), bn=False)\n",
    "    d_sample4 = conv2d(d_sample3, 128, \"d_sample4\", (3,3), bn=False)\n",
    "\n",
    "    \n",
    "    u_sample = deconv2d(d_sample4, d_sample3, 64, \"u_sample1\", (3,3))\n",
    "    u_sample = deconv2d(u_sample, d_sample2, 64, \"u_sample2\", (3,3))\n",
    "    u_sample = deconv2d(u_sample, d_sample1, 32, \"u_sample3\", (3,3))\n",
    "\n",
    "\n",
    "    outputs = deconv2d(u_sample, inputs, 32, \"u_sample5\", (3,3))\n",
    "    outputs = keras.layers.Conv2D(3, kernel_size=3, padding=\"same\", name=\"outputs\")(outputs)\n",
    "    \n",
    "    model = keras.models.Model(inputs, outputs, name=name)\n",
    "    None if not summary else model.summary()\n",
    "    return model\n",
    " \n",
    "\n",
    "@tf.function\n",
    "def loss_fn(target, predicted):    \n",
    "    vgg_loss = keras.metrics.MSE(loss_model(target), loss_model(predicted))\n",
    "    mse_loss = keras.metrics.MSE(target, predicted)\n",
    "    loss = 10*keras.backend.mean(vgg_loss) + keras.backend.mean(mse_loss)   \n",
    "    return loss"
   ]
  },
  {
   "cell_type": "code",
   "execution_count": 30,
   "metadata": {
    "colab": {},
    "colab_type": "code",
    "executionInfo": {
     "elapsed": 2951,
     "status": "ok",
     "timestamp": 1597078404499,
     "user": {
      "displayName": "Play with Ken",
      "photoUrl": "",
      "userId": "11920113338149543813"
     },
     "user_tz": -330
    },
    "id": "yXTPIBbH2rM_"
   },
   "outputs": [],
   "source": []
  },
  {
   "cell_type": "code",
   "execution_count": 30,
   "metadata": {
    "colab": {},
    "colab_type": "code",
    "executionInfo": {
     "elapsed": 2780,
     "status": "ok",
     "timestamp": 1597078404499,
     "user": {
      "displayName": "Play with Ken",
      "photoUrl": "",
      "userId": "11920113338149543813"
     },
     "user_tz": -330
    },
    "id": "-y2AatOa1rVR"
   },
   "outputs": [],
   "source": []
  },
  {
   "cell_type": "code",
   "execution_count": 31,
   "metadata": {
    "colab": {},
    "colab_type": "code",
    "executionInfo": {
     "elapsed": 2596,
     "status": "ok",
     "timestamp": 1597078404500,
     "user": {
      "displayName": "Play with Ken",
      "photoUrl": "",
      "userId": "11920113338149543813"
     },
     "user_tz": -330
    },
    "id": "dbb_rZ_pxs9j"
   },
   "outputs": [],
   "source": [
    "def create_discriminator(input_shape=(512, 512, 3), summary=True):\n",
    "    inputs = keras.layers.Input(shape=input_shape)\n",
    "    \n",
    "    conv1 = conv2d(inputs, 16, \"conv1\", (3,3), bn=False)\n",
    "    max_pool = keras.layers.MaxPool2D(2, name=\"max_pool1\")(conv1)\n",
    "    conv2 = conv2d(max_pool, 32, \"conv2\", (3,3), bn=False)\n",
    "    max_pool = keras.layers.MaxPool2D(2, name=\"max_pool2\")(conv2)\n",
    "    conv3 = conv2d(max_pool, 64, \"conv3\", (3,3), bn=False)\n",
    "    max_pool = keras.layers.MaxPool2D(2, name=\"max_pool3\")(conv3)\n",
    "    conv4 = conv2d(max_pool, 128, \"conv4\", (3,3), bn=False)\n",
    "    max_pool = keras.layers.MaxPool2D(2, name=\"max_pool4\")(conv4)\n",
    "    flatten = keras.layers.Flatten(name=\"flatten\")(max_pool)\n",
    "    dense1 = keras.layers.Dense(128, activation=\"relu\", name=\"dense1\")(flatten)\n",
    "    outputs = keras.layers.Dense(1, activation=\"sigmoid\", name=\"outputs\")(dense1)\n",
    "    \n",
    "    model = keras.models.Model(inputs, outputs)\n",
    "    None if not summary else model.summary()\n",
    "    return model\n",
    " \n",
    " \n",
    "def train_discriminator(discriminator, real, fake):\n",
    "    discriminator.trainable = True\n",
    "    ones, zeros = np.ones(len(real)), np.zeros(len(fake))\n",
    "    outputs = np.concatenate((ones, zeros))\n",
    "    inputs = np.concatenate((real, fake))\n",
    "    random_shuffle_index = np.random.permutation(len(outputs))\n",
    "    outputs, inputs = outputs[random_shuffle_index], inputs[random_shuffle_index]\n",
    "    loss, accuracy = discriminator.train_on_batch(inputs, outputs)\n",
    "    return loss, accuracy"
   ]
  },
  {
   "cell_type": "code",
   "execution_count": 32,
   "metadata": {
    "colab": {},
    "colab_type": "code",
    "executionInfo": {
     "elapsed": 2430,
     "status": "ok",
     "timestamp": 1597078404501,
     "user": {
      "displayName": "Play with Ken",
      "photoUrl": "",
      "userId": "11920113338149543813"
     },
     "user_tz": -330
    },
    "id": "1LDG4MUVxtAK"
   },
   "outputs": [],
   "source": [
    "def g_on_d(discriminator, generator):\n",
    "    inputs = keras.layers.Input(shape=(512,512,3))\n",
    "    fake = generator(inputs)\n",
    "    outputs = discriminator(fake)\n",
    "    \n",
    "    model = keras.models.Model(inputs=inputs, outputs=[fake, outputs])\n",
    "    model.summary()\n",
    "    \n",
    "    return model"
   ]
  },
  {
   "cell_type": "code",
   "execution_count": 33,
   "metadata": {
    "colab": {},
    "colab_type": "code",
    "executionInfo": {
     "elapsed": 3382,
     "status": "ok",
     "timestamp": 1597078405640,
     "user": {
      "displayName": "Play with Ken",
      "photoUrl": "",
      "userId": "11920113338149543813"
     },
     "user_tz": -330
    },
    "id": "zPNotx8IxtC_"
   },
   "outputs": [],
   "source": [
    "def train_gan(gan, generator, discriminator, \n",
    "              imgs, epochs=1, batch_size=10, \n",
    "              train_disc = True,\n",
    "              generator_name=\"model_generator\", \n",
    "              discriminator_name=\"model_discriminator\"):\n",
    "    n = len(imgs)    \n",
    "    for epoch in range(epochs):\n",
    "        shuffle(imgs)\n",
    "        t = tqdm(range(0, n, batch_size))\n",
    "        t.desc = f\"Epoch {epoch+1}/{epochs} -\"\n",
    "        d_loss, accuracy = 0, 0\n",
    "        for i in t:            \n",
    "            real = [get_random_crop(img, 512, 512) for img in imgs[i:i+batch_size]]\n",
    "            inputs = keras.backend.variable([cv2.resize(cv2.resize(img, (128,128)), (512,512), cv2.INTER_CUBIC) for img in real])\n",
    "            if train_disc:\n",
    "                fake = generator.predict_on_batch(inputs)\n",
    "                discriminator.trainable = True\n",
    "                d_loss, accuracy = train_discriminator(discriminator, real, fake)\n",
    "            discriminator.trainable = False\n",
    " \n",
    "            g_loss = gan.train_on_batch(inputs, [tf.keras.backend.variable(real), np.ones(len(real)) ])\n",
    "            t.postfix = f\"d_loss: {d_loss:.5f} a: {accuracy*100:.2f}% g_loss: [{g_loss[0]:.5f} {g_loss[1]:.5f} {g_loss[2]:.5f}] \"\n",
    "            \n",
    "        discriminator.save(f\"./drive/My Drive/Image SR/2/{discriminator_name}_4x_gan.h5\")\n",
    "        generator.save(f\"./drive/My Drive/Image SR/2/{generator_name}_4x_gan.h5\")"
   ]
  },
  {
   "cell_type": "code",
   "execution_count": 34,
   "metadata": {
    "colab": {},
    "colab_type": "code",
    "executionInfo": {
     "elapsed": 2584,
     "status": "ok",
     "timestamp": 1597078405641,
     "user": {
      "displayName": "Play with Ken",
      "photoUrl": "",
      "userId": "11920113338149543813"
     },
     "user_tz": -330
    },
    "id": "QzN58pGZxtF1"
   },
   "outputs": [],
   "source": [
    "def predict(model, imgs):\n",
    "    targets = [cv2.resize(img, (512, 512), cv2.INTER_AREA) for img in imgs]\n",
    "    frames = [cv2.resize(img, (128, 128)) for img in targets]\n",
    "    frames = [cv2.resize(img, (512, 512), cv2.INTER_CUBIC) for img in frames]\n",
    "    \n",
    "    predicted = model.predict_on_batch(keras.backend.variable(frames))\n",
    "    return targets, frames, predicted"
   ]
  },
  {
   "cell_type": "code",
   "execution_count": 35,
   "metadata": {
    "colab": {
     "base_uri": "https://localhost:8080/",
     "height": 252
    },
    "colab_type": "code",
    "executionInfo": {
     "elapsed": 8192,
     "status": "ok",
     "timestamp": 1597078414232,
     "user": {
      "displayName": "Play with Ken",
      "photoUrl": "",
      "userId": "11920113338149543813"
     },
     "user_tz": -330
    },
    "id": "OClIxVAtxtIT",
    "outputId": "fe3d29b5-ee9e-4f64-ae4e-cd60dedae991"
   },
   "outputs": [
    {
     "name": "stdout",
     "output_type": "stream",
     "text": [
      "Model: \"functional_21\"\n",
      "_________________________________________________________________\n",
      "Layer (type)                 Output Shape              Param #   \n",
      "=================================================================\n",
      "input_11 (InputLayer)        [(None, 512, 512, 3)]     0         \n",
      "_________________________________________________________________\n",
      "generator (Functional)       (None, 512, 512, 3)       481588    \n",
      "_________________________________________________________________\n",
      "functional_19 (Functional)   (None, 1)                 163233    \n",
      "=================================================================\n",
      "Total params: 644,821\n",
      "Trainable params: 481,588\n",
      "Non-trainable params: 163,233\n",
      "_________________________________________________________________\n"
     ]
    }
   ],
   "source": [
    "discriminator = create_discriminator(summary=False)\n",
    "discriminator.compile(optimizer=\"adam\", loss=\"binary_crossentropy\", metrics=[\"accuracy\"])\n",
    "discriminator.load_weights('./drive/My Drive/Image SR/2/model_discriminator_4x_gan.h5')\n",
    "\n",
    "\n",
    "# generator = create_generator(summary = False)\n",
    "generator = create_generator((512,512,3), False)\n",
    "generator.compile(optimizer=\"adam\", loss=loss_fn)\n",
    "generator.load_weights('./drive/My Drive/Image SR/2/model_generator_4x_gan.h5')\n",
    " \n",
    "discriminator.trainable = False\n",
    "gan = g_on_d(discriminator, generator)\n",
    "gan.compile(optimizer=\"adam\", loss=[loss_fn, \"binary_crossentropy\"], \n",
    "            loss_weights=[100,7])\n",
    "discriminator.trainable = True"
   ]
  },
  {
   "cell_type": "code",
   "execution_count": 36,
   "metadata": {
    "colab": {
     "base_uri": "https://localhost:8080/",
     "height": 50
    },
    "colab_type": "code",
    "executionInfo": {
     "elapsed": 27511,
     "status": "ok",
     "timestamp": 1597078436710,
     "user": {
      "displayName": "Play with Ken",
      "photoUrl": "",
      "userId": "11920113338149543813"
     },
     "user_tz": -330
    },
    "id": "vHhOi3kAxtK5",
    "outputId": "f0050cef-c2f7-42c2-ddef-4ca15e2edd46"
   },
   "outputs": [
    {
     "name": "stderr",
     "output_type": "stream",
     "text": [
      "100%|██████████| 800/800 [00:22<00:00, 35.62it/s]\n",
      "100%|██████████| 20/20 [00:00<00:00, 24.90it/s]\n"
     ]
    }
   ],
   "source": [
    "train_imgs = glob.glob('./DIV2K_train_LR_bicubic/X3/*.png')\n",
    "train_imgs = [cv2.resize(plt.imread(img)[:,:,:3], (600,600), cv2.INTER_AREA) for img in tqdm(train_imgs)]\n",
    "test_imgs = glob.glob('./drive/My Drive/Image SR/dataset/test/X3/*.png')[:20]\n",
    "test_imgs = [cv2.resize(plt.imread(img)[:,:,:3], (600,600), cv2.INTER_AREA) for img in tqdm(test_imgs)]"
   ]
  },
  {
   "cell_type": "code",
   "execution_count": null,
   "metadata": {
    "colab": {},
    "colab_type": "code",
    "id": "IAvFHpDMfcsG"
   },
   "outputs": [],
   "source": []
  },
  {
   "cell_type": "code",
   "execution_count": 37,
   "metadata": {
    "colab": {},
    "colab_type": "code",
    "executionInfo": {
     "elapsed": 1634,
     "status": "ok",
     "timestamp": 1597078438363,
     "user": {
      "displayName": "Play with Ken",
      "photoUrl": "",
      "userId": "11920113338149543813"
     },
     "user_tz": -330
    },
    "id": "MEx2pfBuC93k"
   },
   "outputs": [],
   "source": [
    "epoch_no = 78"
   ]
  },
  {
   "cell_type": "code",
   "execution_count": 39,
   "metadata": {
    "colab": {
     "base_uri": "https://localhost:8080/",
     "height": 50
    },
    "colab_type": "code",
    "executionInfo": {
     "elapsed": 1522049,
     "status": "ok",
     "timestamp": 1597084935499,
     "user": {
      "displayName": "Play with Ken",
      "photoUrl": "",
      "userId": "11920113338149543813"
     },
     "user_tz": -330
    },
    "id": "SLe1S3uoxtNp",
    "outputId": "64f0dd56-c886-498d-a274-0c772de03e99"
   },
   "outputs": [
    {
     "name": "stderr",
     "output_type": "stream",
     "text": [
      "Epoch 1/1 -: 100%|██████████| 80/80 [12:25<00:00,  9.32s/it, d_loss: 0.68139 a: 55.00% g_loss: [16.51918 0.11941 0.65404] ]\n",
      "Epoch 1/1 -: 100%|██████████| 80/80 [12:15<00:00,  9.19s/it, d_loss: 0.69529 a: 50.00% g_loss: [17.53845 0.13024 0.64487] ]\n"
     ]
    }
   ],
   "source": [
    "for i in range(2):\n",
    "    train_gan(gan, generator, discriminator, train_imgs, epochs=1, \n",
    "              train_disc=True, batch_size=10,\n",
    "              generator_name=\"model_generator\", \n",
    "              discriminator_name=\"model_discriminator\"\n",
    "        )\n",
    "       \n",
    "    targets, frames, predicted = predict(generator, test_imgs)  \n",
    "    \n",
    "    for j in range(len(frames)):\n",
    "      img = np.zeros(shape=(512, 512*3, 3))\n",
    "      img[:, :512, :] = targets[j]\n",
    "      img[:,512:1024, :] = cv2.resize(frames[j], (512,512), cv2.INTER_CUBIC)\n",
    "      img[:,1024:, :] = predicted[j]\n",
    "      img[:,1024:, :][img[:,1024:, :]>1] = 1\n",
    "      img[:,1024:, :][img[:,1024:, :]<0] = 0\n",
    "      plt.imsave(f\"./drive/My Drive/Image SR/2/results_1/{j+1}_{epoch_no}.png\",img)\n",
    "    epoch_no +=1"
   ]
  },
  {
   "cell_type": "code",
   "execution_count": null,
   "metadata": {
    "colab": {},
    "colab_type": "code",
    "id": "Tiz_vzbfxtQH"
   },
   "outputs": [],
   "source": []
  },
  {
   "cell_type": "code",
   "execution_count": null,
   "metadata": {
    "colab": {},
    "colab_type": "code",
    "id": "x7TtscUaxtS_"
   },
   "outputs": [],
   "source": [
    "train_gan(gan, generator, discriminator, train_imgs, epochs=1, \n",
    "              train_disc=True, batch_size=3,\n",
    "              generator_name=\"model_generator\", \n",
    "              discriminator_name=\"model_discriminator\"\n",
    "        )"
   ]
  },
  {
   "cell_type": "code",
   "execution_count": null,
   "metadata": {
    "colab": {},
    "colab_type": "code",
    "id": "GaQjziInxtVc"
   },
   "outputs": [],
   "source": [
    "targets, frames, predicted = predict(generator, test_imgs)  \n",
    "    \n",
    "for j in range(len(frames)):\n",
    "  img = np.zeros(shape=(512, 512*3, 3))\n",
    "  img[:, :512, :] = targets[j]\n",
    "  img[:,512:1024, :] = cv2.resize(frames[j], (512,512), cv2.INTER_CUBIC)\n",
    "  img[:,1024:, :] = predicted[j]\n",
    "  img[:,1024:, :][img[:,1024:, :]>1] = 1\n",
    "  img[:,1024:, :][img[:,1024:, :]<0] = 0\n",
    "  plt.imsave(f\"./drive/My Drive/Image SR/2/results_1/{j+1}_{epoch_no}.png\",img)"
   ]
  },
  {
   "cell_type": "code",
   "execution_count": null,
   "metadata": {
    "colab": {},
    "colab_type": "code",
    "id": "Ub1fejRQTmzl"
   },
   "outputs": [],
   "source": []
  },
  {
   "cell_type": "code",
   "execution_count": null,
   "metadata": {
    "colab": {
     "base_uri": "https://localhost:8080/",
     "height": 34
    },
    "colab_type": "code",
    "executionInfo": {
     "elapsed": 1648,
     "status": "ok",
     "timestamp": 1596999273301,
     "user": {
      "displayName": "Play with Ken",
      "photoUrl": "",
      "userId": "11920113338149543813"
     },
     "user_tz": -330
    },
    "id": "-BKHKT4XTm2K",
    "outputId": "a5574c5c-4005-4bb1-9f8c-6f450e2dada8"
   },
   "outputs": [
    {
     "name": "stderr",
     "output_type": "stream",
     "text": [
      "100%|██████████| 20/20 [00:00<00:00, 33.50it/s]\n"
     ]
    }
   ],
   "source": [
    "test_imgs = glob.glob('./drive/My Drive/Image SR/dataset/test/X3/*.png')[:20]\n",
    "test_imgs = [plt.imread(img)[:,:,:3] for img in tqdm(test_imgs)]"
   ]
  },
  {
   "cell_type": "code",
   "execution_count": null,
   "metadata": {
    "colab": {},
    "colab_type": "code",
    "id": "_mvvvociTz6P"
   },
   "outputs": [],
   "source": [
    "pos = 20\n",
    "width, height = test_imgs[pos-1].shape[0], test_imgs[pos-1].shape[1]\n",
    "img = cv2.resize(test_imgs[pos-1], (int((height+8-height%8)*2), int((width+8-width%8)*2)))\n",
    "# img = cv2.resize(test_imgs[pos-1], (int(height-height%16), int(width-width%16)))\n",
    "predicted_img = generator.predict_on_batch(keras.backend.variable([  img  ]))"
   ]
  },
  {
   "cell_type": "code",
   "execution_count": null,
   "metadata": {
    "colab": {},
    "colab_type": "code",
    "id": "SF5rnkfRnuG8"
   },
   "outputs": [],
   "source": []
  },
  {
   "cell_type": "code",
   "execution_count": null,
   "metadata": {
    "colab": {},
    "colab_type": "code",
    "id": "2zV4X4l5Tm49"
   },
   "outputs": [],
   "source": [
    "temp = predicted_img[0]\n",
    "temp[temp > 1] = 1\n",
    "temp[temp < 0] = 0\n",
    "# \n",
    "plt.imsave(f\"{pos}_1.png\",temp)"
   ]
  },
  {
   "cell_type": "code",
   "execution_count": null,
   "metadata": {
    "colab": {},
    "colab_type": "code",
    "id": "0y2-nT32Tm7z"
   },
   "outputs": [],
   "source": [
    "img = cv2.resize(predicted_img[0], (int((height+8-height%8)*2), int((width+8-width%8)*2)))\n",
    "predicted_img = generator.predict_on_batch(keras.backend.variable([  img  ]))"
   ]
  },
  {
   "cell_type": "code",
   "execution_count": null,
   "metadata": {
    "colab": {},
    "colab_type": "code",
    "id": "zR3XHKtTngsA"
   },
   "outputs": [],
   "source": [
    "temp = predicted_img[0]\n",
    "temp[temp > 1] = 1\n",
    "temp[temp < 0] = 0\n",
    "# \n",
    "plt.imsave(f\"{pos}_2.png\",temp)"
   ]
  },
  {
   "cell_type": "code",
   "execution_count": null,
   "metadata": {
    "colab": {
     "base_uri": "https://localhost:8080/",
     "height": 34
    },
    "colab_type": "code",
    "executionInfo": {
     "elapsed": 1167,
     "status": "ok",
     "timestamp": 1597000598313,
     "user": {
      "displayName": "Play with Ken",
      "photoUrl": "",
      "userId": "11920113338149543813"
     },
     "user_tz": -330
    },
    "id": "ICLuxqyhTm-a",
    "outputId": "f9755bc2-1fb9-4c47-a7bc-8c9d7d8fe08f"
   },
   "outputs": [
    {
     "data": {
      "text/plain": [
       "(912, 1376, 3)"
      ]
     },
     "execution_count": 91,
     "metadata": {
      "tags": []
     },
     "output_type": "execute_result"
    }
   ],
   "source": [
    "img.shape"
   ]
  },
  {
   "cell_type": "code",
   "execution_count": null,
   "metadata": {
    "colab": {
     "base_uri": "https://localhost:8080/",
     "height": 34
    },
    "colab_type": "code",
    "executionInfo": {
     "elapsed": 1226,
     "status": "ok",
     "timestamp": 1597000550717,
     "user": {
      "displayName": "Play with Ken",
      "photoUrl": "",
      "userId": "11920113338149543813"
     },
     "user_tz": -330
    },
    "id": "W1JXZoLUTnA9",
    "outputId": "f331a5b0-fdf7-4ccd-98d4-ad6a9388461e"
   },
   "outputs": [
    {
     "data": {
      "text/plain": [
       "(1, 912, 1376, 3)"
      ]
     },
     "execution_count": 84,
     "metadata": {
      "tags": []
     },
     "output_type": "execute_result"
    }
   ],
   "source": [
    "predicted_img.shape"
   ]
  },
  {
   "cell_type": "code",
   "execution_count": 3,
   "metadata": {
    "colab": {},
    "colab_type": "code",
    "id": "-yIM3a5zpiHP"
   },
   "outputs": [],
   "source": [
    "import time"
   ]
  },
  {
   "cell_type": "code",
   "execution_count": 6,
   "metadata": {},
   "outputs": [
    {
     "data": {
      "text/plain": [
       "'Wed Aug 12 23:55:04 2020'"
      ]
     },
     "execution_count": 6,
     "metadata": {},
     "output_type": "execute_result"
    }
   ],
   "source": [
    "time.ctime()"
   ]
  },
  {
   "cell_type": "code",
   "execution_count": 9,
   "metadata": {},
   "outputs": [],
   "source": [
    "import datetime"
   ]
  },
  {
   "cell_type": "code",
   "execution_count": 12,
   "metadata": {},
   "outputs": [
    {
     "data": {
      "text/plain": [
       "datetime.time(0, 0)"
      ]
     },
     "execution_count": 12,
     "metadata": {},
     "output_type": "execute_result"
    }
   ],
   "source": []
  }
 ],
 "metadata": {
  "accelerator": "GPU",
  "colab": {
   "authorship_tag": "ABX9TyMZXvdCVtVwvSRxyyg5cvEN",
   "collapsed_sections": [],
   "mount_file_id": "1TUkuuq5W82DRedrCcuamZBQW2lNd9Tk7",
   "name": "Image SR 4x - 2.ipynb",
   "provenance": []
  },
  "kernelspec": {
   "display_name": "Python 3",
   "language": "python",
   "name": "python3"
  },
  "language_info": {
   "codemirror_mode": {
    "name": "ipython",
    "version": 3
   },
   "file_extension": ".py",
   "mimetype": "text/x-python",
   "name": "python",
   "nbconvert_exporter": "python",
   "pygments_lexer": "ipython3",
   "version": "3.7.7"
  }
 },
 "nbformat": 4,
 "nbformat_minor": 4
}
